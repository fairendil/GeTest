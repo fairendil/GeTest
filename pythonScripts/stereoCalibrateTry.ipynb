{
 "cells": [
  {
   "cell_type": "code",
   "execution_count": 13,
   "metadata": {},
   "outputs": [],
   "source": [
    "import cv2 as cv\n",
    "import pandas as pd\n",
    "import numpy as np\n"
   ]
  },
  {
   "cell_type": "code",
   "execution_count": 14,
   "metadata": {},
   "outputs": [],
   "source": [
    "left = pd.read_excel('left.xlsx')\n",
    "right = pd.read_excel('right.xlsx')\n",
    "obj = pd.read_excel('obj.xlsx')\n"
   ]
  },
  {
   "cell_type": "code",
   "execution_count": 34,
   "metadata": {},
   "outputs": [],
   "source": [
    "cameraMatrixLeft = [2416.134291, 2416.134291, 0, 1246.104594, 0, 2416.904917, 1006.702368, 0, 0, 1]\n",
    "distortionCoeffsLeft = [-0.0019, -0.0019, 2.50E-05, 7.50E-05, -1.10E-05, 9.50E-08, 0, 0, 0, 0, 0, 0, 0, 0, 0]\n",
    "cameraMatrixRight = [2427.256144, 2427.256144, 0, 1238, 0, 2430.44497, 1013, 0, 0, 1]\n",
    "distortionCoeffRight = [-0.002,\t-0.002,\t4.50E-05, 1.80E-05, -3.70E-05, -4.20E-07, 0, 0, 0, 0, 0, 0, 0, 0, 0]\n",
    "termCriteria = [2, 100, 0.0001]\n",
    "stereoRotation = [0.984104809, 0.984104809, 0.028004222, 0.175366726, -0.027150103, 0.999604944, -0.007268268, -0.175500989, 0.002391513, 0.98447635]\n",
    "stereoTranslation = [-860.461, -860.461, 10.754, 77.236]\n"
   ]
  },
  {
   "cell_type": "code",
   "execution_count": 35,
   "metadata": {},
   "outputs": [
    {
     "data": {
      "text/plain": [
       "4194304"
      ]
     },
     "execution_count": 35,
     "metadata": {},
     "output_type": "execute_result"
    }
   ],
   "source": [
    "# номер параметра int в stereoCalibrate\n",
    "cv.CALIB_USE_EXTRINSIC_GUESS"
   ]
  },
  {
   "cell_type": "code",
   "execution_count": 36,
   "metadata": {},
   "outputs": [
    {
     "data": {
      "text/plain": [
       "array([2053.75,  618.75])"
      ]
     },
     "execution_count": 36,
     "metadata": {},
     "output_type": "execute_result"
    }
   ],
   "source": [
    "np.array(left)[0]"
   ]
  },
  {
   "cell_type": "code",
   "execution_count": 39,
   "metadata": {},
   "outputs": [
    {
     "ename": "error",
     "evalue": "OpenCV(4.7.0) D:\\a\\opencv-python\\opencv-python\\opencv\\modules\\calib3d\\src\\calibration.cpp:3926: error: (-206:Bad flag (parameter or structure field)) stereoCalibrate does not support CALIB_USE_EXTRINSIC_GUESS. in function 'cv::stereoCalibrate'\n",
     "output_type": "error",
     "traceback": [
      "\u001b[1;31m---------------------------------------------------------------------------\u001b[0m",
      "\u001b[1;31merror\u001b[0m                                     Traceback (most recent call last)",
      "Cell \u001b[1;32mIn[39], line 1\u001b[0m\n\u001b[1;32m----> 1\u001b[0m cv\u001b[39m.\u001b[39;49mstereoCalibrate(objectPoints\u001b[39m=\u001b[39;49mnp\u001b[39m.\u001b[39;49marray(obj), imagePoints1\u001b[39m=\u001b[39;49mnp\u001b[39m.\u001b[39;49marray(left), imagePoints2\u001b[39m=\u001b[39;49mnp\u001b[39m.\u001b[39;49marray(right), cameraMatrix1\u001b[39m=\u001b[39;49mnp\u001b[39m.\u001b[39;49marray(cameraMatrixLeft), distCoeffs1\u001b[39m=\u001b[39;49mnp\u001b[39m.\u001b[39;49marray(distortionCoeffsLeft),\n\u001b[0;32m      2\u001b[0m                    cameraMatrix2\u001b[39m=\u001b[39;49mnp\u001b[39m.\u001b[39;49marray(cameraMatrixRight), distCoeffs2\u001b[39m=\u001b[39;49mnp\u001b[39m.\u001b[39;49marray(distortionCoeffRight), imageSize\u001b[39m=\u001b[39;49m[\u001b[39m2448\u001b[39;49m, \u001b[39m2050\u001b[39;49m], R\u001b[39m=\u001b[39;49mnp\u001b[39m.\u001b[39;49marray(stereoRotation), T\u001b[39m=\u001b[39;49mnp\u001b[39m.\u001b[39;49marray(stereoTranslation), \n\u001b[0;32m      3\u001b[0m                    flags\u001b[39m=\u001b[39;49mcv\u001b[39m.\u001b[39;49mCALIB_USE_EXTRINSIC_GUESS, criteria\u001b[39m=\u001b[39;49mtermCriteria, F\u001b[39m=\u001b[39;49mnp\u001b[39m.\u001b[39;49marray([]), E\u001b[39m=\u001b[39;49mnp\u001b[39m.\u001b[39;49marray([])\n\u001b[0;32m      4\u001b[0m                    )\n",
      "\u001b[1;31merror\u001b[0m: OpenCV(4.7.0) D:\\a\\opencv-python\\opencv-python\\opencv\\modules\\calib3d\\src\\calibration.cpp:3926: error: (-206:Bad flag (parameter or structure field)) stereoCalibrate does not support CALIB_USE_EXTRINSIC_GUESS. in function 'cv::stereoCalibrate'\n"
     ]
    }
   ],
   "source": [
    "cv.stereoCalibrate(objectPoints=np.array(obj), imagePoints1=np.array(left), imagePoints2=np.array(right), cameraMatrix1=np.array(cameraMatrixLeft), distCoeffs1=np.array(distortionCoeffsLeft),\n",
    "                   cameraMatrix2=np.array(cameraMatrixRight), distCoeffs2=np.array(distortionCoeffRight), imageSize=[2448, 2050], R=np.array(stereoRotation), T=np.array(stereoTranslation), \n",
    "                   flags=cv.CALIB_USE_EXTRINSIC_GUESS, criteria=termCriteria, F=np.array([]), E=np.array([])\n",
    "                   )"
   ]
  },
  {
   "cell_type": "code",
   "execution_count": null,
   "metadata": {},
   "outputs": [],
   "source": []
  }
 ],
 "metadata": {
  "kernelspec": {
   "display_name": "Python 3",
   "language": "python",
   "name": "python3"
  },
  "language_info": {
   "codemirror_mode": {
    "name": "ipython",
    "version": 3
   },
   "file_extension": ".py",
   "mimetype": "text/x-python",
   "name": "python",
   "nbconvert_exporter": "python",
   "pygments_lexer": "ipython3",
   "version": "3.11.2"
  },
  "orig_nbformat": 4
 },
 "nbformat": 4,
 "nbformat_minor": 2
}
